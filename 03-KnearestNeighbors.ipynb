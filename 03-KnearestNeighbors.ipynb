{
 "cells": [
  {
   "cell_type": "markdown",
   "metadata": {},
   "source": [
    "1．$k$近邻法是基本且简单的分类与回归方法。$k$近邻法的基本做法是：对给定的训练实例点和输入实例点，首先确定输入实例点的$k$个最近邻训练实例点，然后利用这$k$个训练实例点的类的多数来预测输入实例点的类。\n",
    "\n",
    "2．$k$近邻模型对应于基于训练数据集对特征空间的一个划分。$k$近邻法中，当训练集、距离度量、$k$值及分类决策规则确定后，其结果唯一确定。\n",
    "\n",
    "3．$k$近邻法三要素：距离度量、$k$值的选择和分类决策规则。常用的距离度量是欧氏距离及更一般的**pL**距离。$k$值小时，$k$近邻模型更复杂；$k$值大时，$k$近邻模型更简单。$k$值的选择反映了对近似误差与估计误差之间的权衡，通常由交叉验证选择最优的$k$。\n",
    "\n",
    "常用的分类决策规则是多数表决，对应于经验风险最小化。\n",
    "\n",
    "4．$k$近邻法的实现需要考虑如何快速搜索k个最近邻点。**kd**树是一种便于对k维空间中的数据进行快速检索的数据结构。kd树是二叉树，表示对$k$维空间的一个划分，其每个结点对应于$k$维空间划分中的一个超矩形区域。利用**kd**树可以省去对大部分数据点的搜索， 从而减少搜索的计算量。"
   ]
  },
  {
   "cell_type": "code",
   "execution_count": 1,
   "metadata": {},
   "outputs": [],
   "source": [
    "from collections import namedtuple\n",
    "from operator import itemgetter\n",
    "from pprint import pformat\n",
    "import math\n",
    "# 构造 kd树 的节点\n",
    "class kdNode(namedtuple(\"Node\",\"location axis leftChild rightChild\")):\n",
    "    def __repr__(self) -> str:\n",
    "        return pformat((self.location,self.leftChild,self.rightChild))\n",
    "# 递归地构造 kd树 （根据划分的轴，找中位数那个点，把空间划分为两个部分）\n",
    "def kdTree(depth: int = 0, point_list:list = []):\n",
    "    if not point_list:\n",
    "        return None\n",
    "    k = len(point_list[0])\n",
    "    axis = depth % k\n",
    "    point_list.sort(key = itemgetter(axis))\n",
    "    median = len(point_list) // 2\n",
    "    return kdNode (\n",
    "        location = point_list[median],\n",
    "        axis = axis,\n",
    "        leftChild = kdTree(depth+1, point_list[:median]),\n",
    "        rightChild = kdTree(depth+1, point_list[median+1:])\n",
    "    )\n",
    "    \n",
    "# kd树 的前序遍历\n",
    "def preOrder(root):\n",
    "    print(root.location)\n",
    "    if root.leftChild:\n",
    "        preOrder(root.leftChild)\n",
    "    if root.rightChild:\n",
    "        preOrder(root.rightChild)\n",
    "\n",
    "# 计算两点之间的距离\n",
    "def distP(x, y, p=2):\n",
    "    if len(x) == len(y) and len(x) > 1:\n",
    "        sum = 0\n",
    "        for i in range(len(x)):\n",
    "            sum += math.pow((abs(x[i]-y[i])),p)\n",
    "        return math.pow(sum,1/p)\n",
    "    else:\n",
    "        return 0"
   ]
  },
  {
   "cell_type": "code",
   "execution_count": 2,
   "metadata": {},
   "outputs": [
    {
     "name": "stdout",
     "output_type": "stream",
     "text": [
      "((7, 2),\n",
      " ((5, 4), ((2, 3), None, None), ((4, 7), None, None)),\n",
      " ((9, 6), ((8, 1), None, None), None))\n",
      "result(nearestPoint=(9, 6), nearestDist=1.118033988749895)\n"
     ]
    }
   ],
   "source": [
    "# 搜索kd树，寻找距离目标最近的样本 - k近邻搜索\n",
    "import math\n",
    "from collections import namedtuple\n",
    "from random import random\n",
    "\n",
    "result = namedtuple(\"result\", \"nearestPoint  nearestDist\")\n",
    "\n",
    "def kdSearch(kdTree, point):\n",
    "    k = len(point)\n",
    "    def travel(kdNode, target, maxDist):\n",
    "        if kdNode is None:\n",
    "            return result([0]*k, float(\"inf\"))\n",
    "        s = kdNode.axis # 当前节点划分维度\n",
    "        pivot = kdNode.location # 当前节点的位置\n",
    "\n",
    "        if target[s] <= pivot[s]: \n",
    "            nearerNode,furtherNode = kdNode.leftChild,kdNode.rightChild\n",
    "        else:\n",
    "            nearerNode,furtherNode = kdNode.rightChild, kdNode.leftChild\n",
    "\n",
    "        tmp1 = travel(nearerNode, target, maxDist)\n",
    "\n",
    "        nearest = tmp1.nearestPoint # 最近叶子节点\n",
    "        dist = tmp1.nearestDist # 和最近的叶子节点距离\n",
    "\n",
    "        maxDist = dist if dist < maxDist else maxDist  # 最近点将在以目标点为球心，max_dist为半径的超球体内\n",
    "        tmpDist = abs(pivot[s] - target[s])\n",
    "        \n",
    "    \n",
    "        if maxDist < tmpDist: # 判断超球体是否与超平面相交\n",
    "            return result(nearest, dist) # 不相交则可以直接返回，不用继续判断 \n",
    "\n",
    "        tmpDist = distP(pivot, target) \n",
    "        if tmpDist < dist:\n",
    "            nearest,dist,maxDist = pivot,tmpDist,dist\n",
    "        # 检查另一个子节点对应的区域是否有更近的点\n",
    "        tmp2 = travel(furtherNode, target, maxDist)\n",
    "        if tmp2.nearestDist < dist:\n",
    "            nearest,dist = tmp2.nearestPoint,tmp2.nearestDist\n",
    "        return result(nearest, dist)\n",
    "    return travel(kdTree, point, float(\"inf\"))\n",
    "\n",
    "def main():\n",
    "    point_list = [(7, 2), (5, 4), (9, 6), (4, 7), (8, 1), (2, 3)]\n",
    "    target = (8.5, 5)\n",
    "\n",
    "    tree = kdTree(0, point_list)\n",
    "    print(tree)\n",
    "    ret = kdSearch(tree, target)\n",
    "    print(ret)\n",
    "\n",
    "if __name__ == \"__main__\":\n",
    "    main()"
   ]
  }
 ],
 "metadata": {
  "interpreter": {
   "hash": "0716a2a2bd975815f974ac9d1e01ab62d1944d0794eebdec037b5fef9dc00044"
  },
  "kernelspec": {
   "display_name": "Python 3.9.0 64-bit",
   "language": "python",
   "name": "python3"
  },
  "language_info": {
   "codemirror_mode": {
    "name": "ipython",
    "version": 3
   },
   "file_extension": ".py",
   "mimetype": "text/x-python",
   "name": "python",
   "nbconvert_exporter": "python",
   "pygments_lexer": "ipython3",
   "version": "3.9.0"
  },
  "orig_nbformat": 4
 },
 "nbformat": 4,
 "nbformat_minor": 2
}
