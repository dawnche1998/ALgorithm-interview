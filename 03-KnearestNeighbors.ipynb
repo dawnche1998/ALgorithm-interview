{
 "cells": [
  {
   "cell_type": "code",
   "execution_count": null,
   "metadata": {},
   "outputs": [],
   "source": [
    "from collections import namedtuple\n",
    "from operator import itemgetter\n",
    "from pprint import pformat\n",
    "import math\n",
    "# 构造 kd树 的节点\n",
    "class kdNode(namedtuple(\"Node\",\"location axis leftChild rightChild\")):\n",
    "    def __repr__(self) -> str:\n",
    "        return pformat((self.location,self.leftChild,self.rightChild))\n",
    "# 递归地构造 kd树 （根据划分的轴，找中位数那个点，把空间划分为两个部分）\n",
    "def kdTree(depth: int = 0, point_list:list = []):\n",
    "    if not point_list:\n",
    "        return None\n",
    "    k = len(point_list[0])\n",
    "    axis = depth % k\n",
    "    point_list.sort(key = itemgetter(axis))\n",
    "    median = len(point_list) // 2\n",
    "    return kdNode (\n",
    "        location = point_list[median],\n",
    "        axis = axis,\n",
    "        leftChild = kdTree(depth+1, point_list[:median]),\n",
    "        rightChild = kdTree(depth+1, point_list[median+1:])\n",
    "    )\n",
    "    \n",
    "# kd树 的前序遍历\n",
    "def preOrder(root):\n",
    "    print(root.location)\n",
    "    if root.leftChild:\n",
    "        preOrder(root.leftChild)\n",
    "    if root.rightChild:\n",
    "        preOrder(root.rightChild)\n",
    "\n",
    "# 计算两点之间的距离\n",
    "def distP(x, y, p=2):\n",
    "    if len(x) == len(y) and len(x) > 1:\n",
    "        sum = 0\n",
    "        for i in range(len(x)):\n",
    "            sum += math.pow((abs(x[i]-y[i])),p)\n",
    "        return math.pow(sum,1/p)\n",
    "    else:\n",
    "        return 0"
   ]
  }
 ],
 "metadata": {
  "language_info": {
   "name": "python"
  },
  "orig_nbformat": 4
 },
 "nbformat": 4,
 "nbformat_minor": 2
}
