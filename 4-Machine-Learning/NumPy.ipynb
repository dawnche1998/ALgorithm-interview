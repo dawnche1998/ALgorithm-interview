{
 "cells": [
  {
   "cell_type": "markdown",
   "id": "00e52b6d",
   "metadata": {},
   "source": [
    "### attribute\n",
    "1. ndarry.ndim ：数组的维数\n",
    "2. ndarry.shape: 数组的形状\n",
    "3. ndarray.size：数组中所有元素的数量。\n",
    "4. ndarray.itemsize: 数组中每个元素的大小，以字节为单位\n",
    "5. ndarray.dtype: 数组中元素的类型，如numpy.int32、numpy.int16或numpy.float64\n",
    "6. ndarray.data: 用于存储数组元素的缓冲。通常我们只需要通过下标来访问元素，而不需要访问缓冲区。\n",
    "\n",
    "### Create\n",
    "1. np.array()\n",
    "2. np.arange(10,30,5)\n",
    "3. np.zeros() \n",
    "4. np.ones()\n",
    "5. np.eye()\n",
    "6. np.empty()\n",
    "7. np.random()\n",
    "8. np.linspace()"
   ]
  },
  {
   "cell_type": "markdown",
   "id": "031ef560",
   "metadata": {},
   "source": [
    "### Shape and operation\n",
    "1. reshape\n",
    "2. vstack / hstack\n",
    "3. hsplit / vsplit\n",
    "4. concatenate\n",
    "---\n",
    "1. \\+ \\- \\< \n",
    "2. np.sin(a)\n",
    "3. A*B\n",
    "4. A@B\n",
    "5. A.dot(B)  "
   ]
  },
  {
   "cell_type": "code",
   "execution_count": null,
   "id": "dcab80de",
   "metadata": {},
   "outputs": [],
   "source": [
    "import numpy as np\n",
    "a = np.zeros([2,3])\n",
    "b = np.arange(10,20,4)\n",
    "c = np.random.rand(2,3)\n",
    "d = np.linspace(2,10,3)\n",
    "e = np.vstack((a,b,c,d))\n",
    "f = np.hstack((a,c))"
   ]
  },
  {
   "cell_type": "markdown",
   "id": "9ca4f087",
   "metadata": {},
   "source": [
    "## Indexing Slicing and Iterating\n",
    "1. 使用下标或者下标数组进行访问，下标数组可以是一维的也可以是多维的（产生多维数组）。\n",
    "2. ...的用法\n",
    "3. 切片操作同python\n",
    "4. b.flat"
   ]
  },
  {
   "cell_type": "markdown",
   "id": "dc4e46c2",
   "metadata": {},
   "source": [
    "## Universal Functions\n",
    "1. np.exp()\n",
    "2. np.sqrt()\n",
    "3. np.add(A,B)\n",
    "4. np.amin()\n",
    "5. np.amax()\n",
    "6. np.average()\n",
    "7. sin log cos std"
   ]
  },
  {
   "cell_type": "markdown",
   "id": "31438e52",
   "metadata": {},
   "source": [
    "## Copies and Views\n",
    "\n",
    "1. shallow copy and view\n",
    "2. deep copy: d = a.copy()"
   ]
  },
  {
   "cell_type": "code",
   "execution_count": 1,
   "id": "58616662",
   "metadata": {},
   "outputs": [
    {
     "data": {
      "text/plain": [
       "True"
      ]
     },
     "execution_count": 1,
     "metadata": {},
     "output_type": "execute_result"
    }
   ],
   "source": [
    "import numpy as np\n",
    "a = np.array([1,2,3,4])\n",
    "c = a.view()\n",
    "c is a # False\n",
    "c.base is a # True\n",
    "# 改变c的data，a的data也会改变，改变c的shape a的shape不会改变。"
   ]
  },
  {
   "cell_type": "markdown",
   "id": "9caed86d",
   "metadata": {},
   "source": [
    "### Matrix\n",
    "1. np.dot()\n",
    "2. "
   ]
  }
 ],
 "metadata": {
  "kernelspec": {
   "display_name": "Python 3 (ipykernel)",
   "language": "python",
   "name": "python3"
  },
  "language_info": {
   "codemirror_mode": {
    "name": "ipython",
    "version": 3
   },
   "file_extension": ".py",
   "mimetype": "text/x-python",
   "name": "python",
   "nbconvert_exporter": "python",
   "pygments_lexer": "ipython3",
   "version": "3.9.7"
  }
 },
 "nbformat": 4,
 "nbformat_minor": 5
}
