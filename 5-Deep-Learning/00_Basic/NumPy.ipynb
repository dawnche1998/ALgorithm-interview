{
 "cells": [
  {
   "cell_type": "markdown",
   "id": "00e52b6d",
   "metadata": {},
   "source": [
    "> https://numpy.org/doc/stable/user/quic#\n",
    "# attribute\n",
    "1. ndarray.size\n",
    "2. ndarray.dtype\n",
    "3. ndarray.itemsize\n",
    "4. ndarray.data\n",
    "5. kstart.html#prerequisites\n",
    "## Create\n",
    "1. np.array()\n",
    "2. np.arange(10,30,5)\n",
    "3. np.zeros()\n",
    "4. np.ones()\n",
    "5. np.eye()\n",
    "6. np.empty()\n",
    "7. np.random()"
   ]
  },
  {
   "cell_type": "markdown",
   "id": "031ef560",
   "metadata": {},
   "source": [
    "## operations\n",
    "1. \\+ \\- \\< \n",
    "2. np.sin(a)\n",
    "3. A*B\n",
    "4. A@B\n",
    "5. A.dot(B)\n",
    "6. "
   ]
  },
  {
   "cell_type": "markdown",
   "id": "dc4e46c2",
   "metadata": {},
   "source": [
    "## Universal Functions\n",
    "1. np.exp()\n",
    "2. np.sqrt()\n",
    "3. np.add(A,B)"
   ]
  },
  {
   "cell_type": "markdown",
   "id": "9ca4f087",
   "metadata": {},
   "source": [
    "## Indexing Slicing and Iterating\n",
    "1. ...的用法\n",
    "2. b.flat"
   ]
  },
  {
   "cell_type": "markdown",
   "id": "0148b340",
   "metadata": {},
   "source": [
    "## Shape Manipulation\n",
    "1. np.vstack\n",
    "2. np.hstack\n",
    "3. np.column_stack\n",
    "4. np.row_stack is np.vstack (True)\n",
    "5. concatenate\n",
    "6. c_\n",
    "7. r_"
   ]
  },
  {
   "cell_type": "markdown",
   "id": "e5578704",
   "metadata": {},
   "source": [
    "# Splitting one array into several smaller ones\n",
    "1. np.hsplit\n",
    "2. np."
   ]
  },
  {
   "cell_type": "markdown",
   "id": "31438e52",
   "metadata": {},
   "source": [
    "## Copies and Views\n",
    "\n",
    "1. shallow copy and view\n",
    "2. deep copy: d = a.copy()"
   ]
  },
  {
   "cell_type": "code",
   "execution_count": 1,
   "id": "58616662",
   "metadata": {},
   "outputs": [
    {
     "data": {
      "text/plain": [
       "True"
      ]
     },
     "execution_count": 1,
     "metadata": {},
     "output_type": "execute_result"
    }
   ],
   "source": [
    "   import numpy as np\n",
    "   a = np.array([1,2,3,4])\n",
    "   c = a.view()\n",
    "   c is a # False\n",
    "   c.base is a # True\n",
    "   # 改变c的data，a的data也会改变，改变c的shape a的shape不会改变。"
   ]
  }
 ],
 "metadata": {
  "kernelspec": {
   "display_name": "Python 3 (ipykernel)",
   "language": "python",
   "name": "python3"
  },
  "language_info": {
   "codemirror_mode": {
    "name": "ipython",
    "version": 3
   },
   "file_extension": ".py",
   "mimetype": "text/x-python",
   "name": "python",
   "nbconvert_exporter": "python",
   "pygments_lexer": "ipython3",
   "version": "3.9.7"
  }
 },
 "nbformat": 4,
 "nbformat_minor": 5
}
