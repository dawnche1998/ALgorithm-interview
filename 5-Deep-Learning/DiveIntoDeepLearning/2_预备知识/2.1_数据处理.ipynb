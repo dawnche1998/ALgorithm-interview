{
 "cells": [
  {
   "cell_type": "code",
   "execution_count": 1,
   "metadata": {},
   "outputs": [],
   "source": [
    "import torch"
   ]
  },
  {
   "cell_type": "code",
   "execution_count": 2,
   "metadata": {},
   "outputs": [
    {
     "name": "stdout",
     "output_type": "stream",
     "text": [
      "tensor([[1.0194e-38, 1.0469e-38, 1.0010e-38],\n",
      "        [5.9694e-39, 8.9082e-39, 1.0194e-38],\n",
      "        [9.1837e-39, 8.4490e-39, 1.0102e-38],\n",
      "        [1.0561e-38, 1.0286e-38, 1.0653e-38],\n",
      "        [1.0469e-38, 9.5510e-39, 9.9184e-39]])\n"
     ]
    }
   ],
   "source": [
    "x = torch.empty(5,3)\n",
    "print(x)"
   ]
  },
  {
   "cell_type": "code",
   "execution_count": 5,
   "metadata": {},
   "outputs": [
    {
     "name": "stdout",
     "output_type": "stream",
     "text": [
      "tensor([[0.8333, 0.0951, 0.1852],\n",
      "        [0.7086, 0.5424, 0.2458],\n",
      "        [0.3577, 0.6074, 0.9924],\n",
      "        [0.6241, 0.6998, 0.4687],\n",
      "        [0.3324, 0.4525, 0.3729]])\n"
     ]
    }
   ],
   "source": [
    "x = torch.rand(5, 3, dtype = torch.float)\n",
    "print(x)"
   ]
  },
  {
   "cell_type": "code",
   "execution_count": 7,
   "metadata": {},
   "outputs": [
    {
     "data": {
      "text/plain": [
       "tensor([5.5000, 3.0000])"
      ]
     },
     "execution_count": 7,
     "metadata": {},
     "output_type": "execute_result"
    }
   ],
   "source": [
    "x = torch.tensor([5.5, 3])\n",
    "x"
   ]
  },
  {
   "cell_type": "code",
   "execution_count": 9,
   "metadata": {},
   "outputs": [
    {
     "data": {
      "text/plain": [
       "tensor([[1., 0.],\n",
       "        [0., 1.]])"
      ]
     },
     "execution_count": 9,
     "metadata": {},
     "output_type": "execute_result"
    }
   ],
   "source": [
    "x = torch.eye(2)\n",
    "x"
   ]
  },
  {
   "cell_type": "markdown",
   "metadata": {},
   "source": [
    "# 创建Tensor"
   ]
  },
  {
   "cell_type": "markdown",
   "metadata": {},
   "source": [
    "还有很多函数可以创建Tensor 下表给了一些常用的作参考。\n",
    "|函数|功能|\n",
    "|-|-|\n",
    "|Tensor(*sizes)|基础构造函数|\n",
    "|tensor(data,)|类似np.array的构造函数|\n",
    "ones(*sizes)|全1Tensor|\n",
    "zeros(*sizes)|全0Tensor|\n",
    "eye(*sizes)|对角线为1，其他为0|\n",
    "arange(s,e,step)|从s到e，步长为step|\n",
    "linspace(s,e,steps)|从s到e，均匀切分成steps份|\n",
    "rand/randn(*sizes)|均匀/标准分布|\n",
    "normal(mean,std)/uniform(from,to)|正态分布/均匀分布|\n",
    "randperm(m)|随机排列|"
   ]
  },
  {
   "cell_type": "markdown",
   "metadata": {},
   "source": [
    "# Tensor 操作\n",
    "## add 加法"
   ]
  },
  {
   "cell_type": "code",
   "execution_count": 18,
   "metadata": {},
   "outputs": [
    {
     "name": "stdout",
     "output_type": "stream",
     "text": [
      "tensor([[1.3269, 1.1801, 0.3466],\n",
      "        [0.4613, 1.1349, 1.3016],\n",
      "        [0.7931, 1.0928, 0.7092],\n",
      "        [0.4618, 0.8427, 0.7418],\n",
      "        [1.3288, 1.0113, 0.8561]])\n",
      "tensor([[1.3269, 1.1801, 0.3466],\n",
      "        [0.4613, 1.1349, 1.3016],\n",
      "        [0.7931, 1.0928, 0.7092],\n",
      "        [0.4618, 0.8427, 0.7418],\n",
      "        [1.3288, 1.0113, 0.8561]])\n",
      "tensor([[1.3269, 1.1801, 0.3466],\n",
      "        [0.4613, 1.1349, 1.3016],\n",
      "        [0.7931, 1.0928, 0.7092],\n",
      "        [0.4618, 0.8427, 0.7418],\n",
      "        [1.3288, 1.0113, 0.8561]])\n",
      "tensor([[1.3269, 1.1801, 0.3466],\n",
      "        [0.4613, 1.1349, 1.3016],\n",
      "        [0.7931, 1.0928, 0.7092],\n",
      "        [0.4618, 0.8427, 0.7418],\n",
      "        [1.3288, 1.0113, 0.8561]])\n"
     ]
    }
   ],
   "source": [
    "\n",
    "y = torch.rand(5,3)\n",
    "x = torch.rand_like(y)\n",
    "result = torch.empty_like(x)\n",
    "# 以下结果一样\n",
    "print(x+y)\n",
    "print(torch.add(x,y, out = result))\n",
    "print(torch.add(x,y))\n",
    "print(y.add_(x))"
   ]
  },
  {
   "cell_type": "markdown",
   "metadata": {},
   "source": [
    "## Index 索引"
   ]
  },
  {
   "cell_type": "code",
   "execution_count": 20,
   "metadata": {},
   "outputs": [
    {
     "name": "stdout",
     "output_type": "stream",
     "text": [
      "tensor([2.4390, 2.2944, 2.0133])\n",
      "tensor([2.4390, 2.2944, 2.0133])\n"
     ]
    }
   ],
   "source": [
    "y = x[0,:]\n",
    "y += 1\n",
    "print(y)\n",
    "print(x[0,:]) # 源tensor也被改了"
   ]
  },
  {
   "cell_type": "markdown",
   "metadata": {},
   "source": [
    "## 改变形状\n",
    "使用 `view()` 来改变 `Tensor` 的形状."
   ]
  },
  {
   "cell_type": "code",
   "execution_count": 22,
   "metadata": {},
   "outputs": [
    {
     "name": "stdout",
     "output_type": "stream",
     "text": [
      "torch.Size([5, 3]) torch.Size([15]) torch.Size([3, 5])\n"
     ]
    }
   ],
   "source": [
    "y = x.view(15)\n",
    "z = x.view(-1,5)\n",
    "print(x.size(),y.size(),z.size())\n",
    "# 注意view()返回的新Tensor与源Tensor虽然可能有不同的size，但是是共享data的，也即更改其中的一个，另外一个也会跟着改变。(顾名思义，view仅仅是改变了对这个张量的观察角度，内部数据并未改变)"
   ]
  },
  {
   "cell_type": "markdown",
   "metadata": {},
   "source": [
    "## 深拷贝"
   ]
  },
  {
   "cell_type": "code",
   "execution_count": 23,
   "metadata": {},
   "outputs": [
    {
     "name": "stdout",
     "output_type": "stream",
     "text": [
      "tensor([[ 1.4390,  1.2944,  1.0133],\n",
      "        [-0.5535, -0.5277, -0.3763],\n",
      "        [-0.5796, -0.2666, -0.6799],\n",
      "        [-0.7687, -0.9689, -0.6346],\n",
      "        [-0.5383, -0.5731, -0.4967]]) tensor([2.4390, 2.2944, 2.0133, 0.4465, 0.4723, 0.6237, 0.4204, 0.7334, 0.3201,\n",
      "        0.2313, 0.0311, 0.3654, 0.4617, 0.4269, 0.5033])\n"
     ]
    }
   ],
   "source": [
    "## 深拷贝\n",
    "# 使用clone还有一个好处是会被记录在计算图中，即梯度回传到副本时也会传到源Tensor。\n",
    "x_cp = x.clone().view(15)\n",
    "x -= 1\n",
    "print(x,x_cp)"
   ]
  },
  {
   "cell_type": "code",
   "execution_count": 25,
   "metadata": {},
   "outputs": [
    {
     "name": "stdout",
     "output_type": "stream",
     "text": [
      "tensor([-1.6987])\n",
      "-1.6987019777297974\n"
     ]
    }
   ],
   "source": [
    "# item()\n",
    "x = torch.randn(1)\n",
    "print(x)\n",
    "print(x.item())"
   ]
  },
  {
   "cell_type": "markdown",
   "metadata": {},
   "source": [
    "# 线性代数"
   ]
  },
  {
   "cell_type": "markdown",
   "metadata": {},
   "source": [
    "PyTorch中的Tensor支持超过一百种操作，包括转置、索引、切片、数学运算、线性代数、随机数等等，可参考官方文档。"
   ]
  },
  {
   "cell_type": "markdown",
   "metadata": {},
   "source": [
    "# tensor 和 numpy"
   ]
  },
  {
   "cell_type": "code",
   "execution_count": 26,
   "metadata": {},
   "outputs": [
    {
     "name": "stdout",
     "output_type": "stream",
     "text": [
      "tensor([1., 1., 1., 1., 1.]) [1. 1. 1. 1. 1.]\n",
      "tensor([2., 2., 2., 2., 2.]) [2. 2. 2. 2. 2.]\n"
     ]
    }
   ],
   "source": [
    "a = torch.ones(5)\n",
    "b = a.numpy()\n",
    "print(a, b)\n",
    "a += 1\n",
    "print(a, b)"
   ]
  },
  {
   "cell_type": "code",
   "execution_count": 31,
   "metadata": {},
   "outputs": [
    {
     "name": "stdout",
     "output_type": "stream",
     "text": [
      "[1. 1. 1. 1. 1.] tensor([1., 1., 1., 1., 1.], dtype=torch.float64)\n",
      "[2. 2. 2. 2. 2.] tensor([2., 2., 2., 2., 2.], dtype=torch.float64)\n",
      "[3. 3. 3. 3. 3.] tensor([3., 3., 3., 3., 3.], dtype=torch.float64)\n"
     ]
    }
   ],
   "source": [
    "import numpy as np\n",
    "a = np.ones(5)\n",
    "b = torch.from_numpy(a)\n",
    "print(a,b)\n",
    "a +=1 \n",
    "print(a,b)\n",
    "b+= 1\n",
    "print(a,b)"
   ]
  },
  {
   "cell_type": "code",
   "execution_count": null,
   "metadata": {},
   "outputs": [],
   "source": []
  }
 ],
 "metadata": {
  "interpreter": {
   "hash": "8e0e668bc7065269df8f82f4c77e7e6d402fe5b6907414e9deccaeb3076e441f"
  },
  "kernelspec": {
   "display_name": "Python 3.9.7 64-bit ('pytorch': conda)",
   "language": "python",
   "name": "python3"
  },
  "language_info": {
   "codemirror_mode": {
    "name": "ipython",
    "version": 3
   },
   "file_extension": ".py",
   "mimetype": "text/x-python",
   "name": "python",
   "nbconvert_exporter": "python",
   "pygments_lexer": "ipython3",
   "version": "3.9.7"
  },
  "orig_nbformat": 4
 },
 "nbformat": 4,
 "nbformat_minor": 2
}
