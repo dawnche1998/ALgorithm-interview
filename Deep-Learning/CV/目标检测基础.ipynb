{
 "cells": [
  {
   "cell_type": "markdown",
   "metadata": {},
   "source": [
    "## 一些术语\n",
    "1. backbone：主干网络，主要指用来做特征提取作用的网络，早期分类网络 VGG、ResNet 等去掉用于分类的全连接层的部分就是 backbone 网络。\n",
    "2. neck：指放在 backbone 和 head 之间的网络，作用是更好的融合/利用 backbone 提取的 feature，可以理解为特征增强模块，典型的 neck 是如 FPN 结构。\n",
    "3. head：检测头，输出想要结果（分类+定位）的网络，放在模型最后。如 YOLO 使用特定维度的 conv 获取目标的类别和 bbox 信息。\n",
    "4. bounding-box：在⽬标检测⾥，我们通常使⽤边界框（bounding box，缩写是 bbox）来描述⽬标位置。边界框是⼀个矩形框，可以由矩形左上⻆的 x 和 y 轴坐标与右下⻆的 x 和 y 轴坐标确定。"
   ]
  },
  {
   "cell_type": "markdown",
   "metadata": {},
   "source": [
    "### 1. anchor box\n",
    "⽬标检测算法通常会在输⼊图像中采样⼤量的区域，然后判断这些区域中是否包含我们感兴趣的⽬标，并调整区域边缘从而更准确地预测⽬标的真实边界框（`ground-truth bounding box`）。**不同模型采样方法可能不同**。两阶段检测模型常用的⼀种⽅法是：**以每个像素为中心生成多个大小和宽高比(aspect ratio) 不同的边界框**。这些边界框被称为锚框（anchor box）。"
   ]
  },
  {
   "cell_type": "code",
   "execution_count": null,
   "metadata": {},
   "outputs": [],
   "source": [
    "import numpy as np\n",
    "import six\n",
    "from six import __init__\n",
    "\n",
    "def generate_anchor_base(base_size = 16, ratios=[0.5,1,2],anchor_scales=[8,16,32]):\n",
    "    py = base_size/2.\n",
    "    px = base_size/2.\n",
    "\n",
    "    anchor_base = np.zeros((len(ratios)*len(anchor_scales),4),dtype = np.float32)\n",
    "\n",
    "    for i in six.moves.range\n"
   ]
  },
  {
   "cell_type": "markdown",
   "metadata": {},
   "source": [
    "### IOU\n",
    "交并比（Intersection-over-Union，IoU），目标检测中使用的一个概念，是模型产生的候选框（candidate bound）与原标记框（ground truth bound）的交叠率，即它们的交集与并集的比值。最理想情况是完全重叠，即比值为 1。计算公式如下：\n",
    "\n",
    "$IoU = \\frac{area(C)\\cap area(G)}{ area(C) \\cup area(G)}$"
   ]
  },
  {
   "cell_type": "code",
   "execution_count": null,
   "metadata": {},
   "outputs": [],
   "source": [
    "import numpy as np\n",
    "import cv2\n",
    "\n",
    "def iou(bbox1, bbox2):\n",
    "    if type(bbox1) or type(bbox2) != 'ndarray':\n",
    "        bbox1 = np.array(bbox1)\n",
    "        bbox2 = np.array(bbox2)\n",
    "    assert bbox1.size == 4 and bbox2.size == 4, \"bounding box coordinate size must be 4\"\n",
    "    xx1 = np.max((bbox[0]))"
   ]
  }
 ],
 "metadata": {
  "language_info": {
   "name": "python"
  },
  "orig_nbformat": 4
 },
 "nbformat": 4,
 "nbformat_minor": 2
}
